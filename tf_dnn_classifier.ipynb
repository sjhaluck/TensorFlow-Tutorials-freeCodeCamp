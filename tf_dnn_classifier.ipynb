{
 "cells": [
  {
   "cell_type": "code",
   "execution_count": 1,
   "metadata": {},
   "outputs": [],
   "source": [
    "import tensorflow as tf\n",
    "import pandas as pd"
   ]
  },
  {
   "cell_type": "code",
   "execution_count": 3,
   "metadata": {},
   "outputs": [],
   "source": [
    "CSV_COLUMN_NAMES = ['SepalLength','SepalWidth','PetalLength','PetalWidth','Species']\n",
    "SPECIES = ['Setosa','Versicolor','Virginica']"
   ]
  },
  {
   "cell_type": "code",
   "execution_count": 4,
   "metadata": {},
   "outputs": [
    {
     "name": "stdout",
     "output_type": "stream",
     "text": [
      "Downloading data from https://storage.googleapis.com/download.tensorflow.org/data/iris_training.csv\n",
      "8192/2194 [================================================================================================================] - 0s 0s/step\n",
      "Downloading data from https://storage.googleapis.com/download.tensorflow.org/data/iris_test.csv\n",
      "8192/573 [============================================================================================================================================================================================================================================================================================================================================================================================================================================] - 0s 0us/step\n"
     ]
    }
   ],
   "source": [
    "train_path = tf.keras.utils.get_file('iris_training.csv','https://storage.googleapis.com/download.tensorflow.org/data/iris_training.csv')\n",
    "test_path = tf.keras.utils.get_file('iris_test.csv','https://storage.googleapis.com/download.tensorflow.org/data/iris_test.csv')"
   ]
  },
  {
   "cell_type": "code",
   "execution_count": 5,
   "metadata": {},
   "outputs": [],
   "source": [
    "train = pd.read_csv(train_path, names=CSV_COLUMN_NAMES, header=0)\n",
    "test = pd.read_csv(test_path, names=CSV_COLUMN_NAMES, header=0)"
   ]
  },
  {
   "cell_type": "code",
   "execution_count": 6,
   "metadata": {},
   "outputs": [],
   "source": [
    "train_y = train.pop('Species')\n",
    "test_y = test.pop('Species')"
   ]
  },
  {
   "cell_type": "code",
   "execution_count": 7,
   "metadata": {},
   "outputs": [],
   "source": [
    "def input_fn(features, labels, training=True, batch_size=256):\n",
    "    dataset = tf.data.Dataset.from_tensor_slices((dict(features),labels))\n",
    "    if training:\n",
    "        dataset = dataset.shuffle(1000).repeat()\n",
    "    return dataset.batch(batch_size)"
   ]
  },
  {
   "cell_type": "code",
   "execution_count": 8,
   "metadata": {},
   "outputs": [],
   "source": [
    "feature_cols = []\n",
    "for _ in train.keys():\n",
    "    feature_cols.append(tf.feature_column.numeric_column(key = _))"
   ]
  },
  {
   "cell_type": "code",
   "execution_count": 9,
   "metadata": {},
   "outputs": [
    {
     "name": "stdout",
     "output_type": "stream",
     "text": [
      "INFO:tensorflow:Using default config.\n",
      "WARNING:tensorflow:Using temporary folder as model directory: C:\\Users\\sjhal\\AppData\\Local\\Temp\\tmp5x_1r0dn\n",
      "INFO:tensorflow:Using config: {'_model_dir': 'C:\\\\Users\\\\sjhal\\\\AppData\\\\Local\\\\Temp\\\\tmp5x_1r0dn', '_tf_random_seed': None, '_save_summary_steps': 100, '_save_checkpoints_steps': None, '_save_checkpoints_secs': 600, '_session_config': allow_soft_placement: true\n",
      "graph_options {\n",
      "  rewrite_options {\n",
      "    meta_optimizer_iterations: ONE\n",
      "  }\n",
      "}\n",
      ", '_keep_checkpoint_max': 5, '_keep_checkpoint_every_n_hours': 10000, '_log_step_count_steps': 100, '_train_distribute': None, '_device_fn': None, '_protocol': None, '_eval_distribute': None, '_experimental_distribute': None, '_experimental_max_worker_delay_secs': None, '_session_creation_timeout_secs': 7200, '_service': None, '_cluster_spec': ClusterSpec({}), '_task_type': 'worker', '_task_id': 0, '_global_id_in_cluster': 0, '_master': '', '_evaluation_master': '', '_is_chief': True, '_num_ps_replicas': 0, '_num_worker_replicas': 1}\n"
     ]
    }
   ],
   "source": [
    "classifier = tf.estimator.DNNClassifier(\n",
    "    feature_columns = feature_cols,\n",
    "    hidden_units = [30,10],\n",
    "    n_classes = 3)"
   ]
  },
  {
   "cell_type": "code",
   "execution_count": 10,
   "metadata": {},
   "outputs": [
    {
     "name": "stdout",
     "output_type": "stream",
     "text": [
      "WARNING:tensorflow:From C:\\Users\\sjhal\\Anaconda3\\envs\\dap\\lib\\site-packages\\tensorflow\\python\\training\\training_util.py:236: Variable.initialized_value (from tensorflow.python.ops.variables) is deprecated and will be removed in a future version.\n",
      "Instructions for updating:\n",
      "Use Variable.read_value. Variables in 2.X are initialized automatically both in eager and graph (inside tf.defun) contexts.\n",
      "INFO:tensorflow:Calling model_fn.\n",
      "WARNING:tensorflow:Layer dnn is casting an input tensor from dtype float64 to the layer's dtype of float32, which is new behavior in TensorFlow 2.  The layer has dtype float32 because its dtype defaults to floatx.\n",
      "\n",
      "If you intended to run this layer in float32, you can safely ignore this warning. If in doubt, this warning is likely only an issue if you are porting a TensorFlow 1.X model to TensorFlow 2.\n",
      "\n",
      "To change all layers to have dtype float64 by default, call `tf.keras.backend.set_floatx('float64')`. To change just this layer, pass dtype='float64' to the layer constructor. If you are the author of this layer, you can disable autocasting by passing autocast=False to the base Layer constructor.\n",
      "\n",
      "WARNING:tensorflow:From C:\\Users\\sjhal\\Anaconda3\\envs\\dap\\lib\\site-packages\\tensorflow\\python\\keras\\optimizer_v2\\adagrad.py:83: calling Constant.__init__ (from tensorflow.python.ops.init_ops) with dtype is deprecated and will be removed in a future version.\n",
      "Instructions for updating:\n",
      "Call initializer instance with the dtype argument instead of passing it to the constructor\n",
      "INFO:tensorflow:Done calling model_fn.\n",
      "INFO:tensorflow:Create CheckpointSaverHook.\n",
      "INFO:tensorflow:Graph was finalized.\n",
      "INFO:tensorflow:Running local_init_op.\n",
      "INFO:tensorflow:Done running local_init_op.\n",
      "INFO:tensorflow:Calling checkpoint listeners before saving checkpoint 0...\n",
      "INFO:tensorflow:Saving checkpoints for 0 into C:\\Users\\sjhal\\AppData\\Local\\Temp\\tmp5x_1r0dn\\model.ckpt.\n",
      "INFO:tensorflow:Calling checkpoint listeners after saving checkpoint 0...\n",
      "INFO:tensorflow:loss = 1.6337733, step = 0\n",
      "INFO:tensorflow:global_step/sec: 369.952\n",
      "INFO:tensorflow:loss = 1.0307763, step = 100 (0.272 sec)\n",
      "INFO:tensorflow:global_step/sec: 428.448\n",
      "INFO:tensorflow:loss = 0.9595429, step = 200 (0.233 sec)\n",
      "INFO:tensorflow:global_step/sec: 494.057\n",
      "INFO:tensorflow:loss = 0.9059758, step = 300 (0.202 sec)\n",
      "INFO:tensorflow:global_step/sec: 593.172\n",
      "INFO:tensorflow:loss = 0.8785723, step = 400 (0.169 sec)\n",
      "INFO:tensorflow:global_step/sec: 514.261\n",
      "INFO:tensorflow:loss = 0.85535854, step = 500 (0.195 sec)\n",
      "INFO:tensorflow:global_step/sec: 511.592\n",
      "INFO:tensorflow:loss = 0.824302, step = 600 (0.195 sec)\n",
      "INFO:tensorflow:global_step/sec: 651.083\n",
      "INFO:tensorflow:loss = 0.79643226, step = 700 (0.152 sec)\n",
      "INFO:tensorflow:global_step/sec: 426.603\n",
      "INFO:tensorflow:loss = 0.7687324, step = 800 (0.234 sec)\n",
      "INFO:tensorflow:global_step/sec: 361.971\n",
      "INFO:tensorflow:loss = 0.7611606, step = 900 (0.278 sec)\n",
      "INFO:tensorflow:global_step/sec: 586.385\n",
      "INFO:tensorflow:loss = 0.7341131, step = 1000 (0.170 sec)\n",
      "INFO:tensorflow:global_step/sec: 569.764\n",
      "INFO:tensorflow:loss = 0.72970134, step = 1100 (0.176 sec)\n",
      "INFO:tensorflow:global_step/sec: 593.022\n",
      "INFO:tensorflow:loss = 0.70521235, step = 1200 (0.168 sec)\n",
      "INFO:tensorflow:global_step/sec: 583.148\n",
      "INFO:tensorflow:loss = 0.70046484, step = 1300 (0.171 sec)\n",
      "INFO:tensorflow:global_step/sec: 554.063\n",
      "INFO:tensorflow:loss = 0.6829958, step = 1400 (0.182 sec)\n",
      "INFO:tensorflow:global_step/sec: 618.887\n",
      "INFO:tensorflow:loss = 0.68346757, step = 1500 (0.162 sec)\n",
      "INFO:tensorflow:global_step/sec: 398.981\n",
      "INFO:tensorflow:loss = 0.6484222, step = 1600 (0.252 sec)\n",
      "INFO:tensorflow:global_step/sec: 479.774\n",
      "INFO:tensorflow:loss = 0.64821947, step = 1700 (0.207 sec)\n",
      "INFO:tensorflow:global_step/sec: 493.69\n",
      "INFO:tensorflow:loss = 0.6384594, step = 1800 (0.204 sec)\n",
      "INFO:tensorflow:global_step/sec: 554.123\n",
      "INFO:tensorflow:loss = 0.6275472, step = 1900 (0.178 sec)\n",
      "INFO:tensorflow:global_step/sec: 691.452\n",
      "INFO:tensorflow:loss = 0.6168131, step = 2000 (0.145 sec)\n",
      "INFO:tensorflow:global_step/sec: 634.824\n",
      "INFO:tensorflow:loss = 0.6122167, step = 2100 (0.160 sec)\n",
      "INFO:tensorflow:global_step/sec: 387.077\n",
      "INFO:tensorflow:loss = 0.6119819, step = 2200 (0.257 sec)\n",
      "INFO:tensorflow:global_step/sec: 496.278\n",
      "INFO:tensorflow:loss = 0.58617324, step = 2300 (0.202 sec)\n",
      "INFO:tensorflow:global_step/sec: 603.728\n",
      "INFO:tensorflow:loss = 0.58357394, step = 2400 (0.164 sec)\n",
      "INFO:tensorflow:global_step/sec: 406.11\n",
      "INFO:tensorflow:loss = 0.5659788, step = 2500 (0.247 sec)\n",
      "INFO:tensorflow:global_step/sec: 611.459\n",
      "INFO:tensorflow:loss = 0.58344376, step = 2600 (0.164 sec)\n",
      "INFO:tensorflow:global_step/sec: 659.699\n",
      "INFO:tensorflow:loss = 0.5638607, step = 2700 (0.152 sec)\n",
      "INFO:tensorflow:global_step/sec: 371.305\n",
      "INFO:tensorflow:loss = 0.55622756, step = 2800 (0.270 sec)\n",
      "INFO:tensorflow:global_step/sec: 597.017\n",
      "INFO:tensorflow:loss = 0.5593058, step = 2900 (0.165 sec)\n",
      "INFO:tensorflow:global_step/sec: 681.986\n",
      "INFO:tensorflow:loss = 0.5464714, step = 3000 (0.147 sec)\n",
      "INFO:tensorflow:global_step/sec: 659.577\n",
      "INFO:tensorflow:loss = 0.54683656, step = 3100 (0.153 sec)\n",
      "INFO:tensorflow:global_step/sec: 542.107\n",
      "INFO:tensorflow:loss = 0.539083, step = 3200 (0.183 sec)\n",
      "INFO:tensorflow:global_step/sec: 596.747\n",
      "INFO:tensorflow:loss = 0.5270903, step = 3300 (0.169 sec)\n",
      "INFO:tensorflow:global_step/sec: 634.74\n",
      "INFO:tensorflow:loss = 0.5205051, step = 3400 (0.156 sec)\n",
      "INFO:tensorflow:global_step/sec: 700.982\n",
      "INFO:tensorflow:loss = 0.5143821, step = 3500 (0.144 sec)\n",
      "INFO:tensorflow:global_step/sec: 696.431\n",
      "INFO:tensorflow:loss = 0.5106001, step = 3600 (0.143 sec)\n",
      "INFO:tensorflow:global_step/sec: 451.438\n",
      "INFO:tensorflow:loss = 0.5027633, step = 3700 (0.221 sec)\n",
      "INFO:tensorflow:global_step/sec: 638.951\n",
      "INFO:tensorflow:loss = 0.5001286, step = 3800 (0.159 sec)\n",
      "INFO:tensorflow:global_step/sec: 479.786\n",
      "INFO:tensorflow:loss = 0.49683595, step = 3900 (0.207 sec)\n",
      "INFO:tensorflow:global_step/sec: 552.617\n",
      "INFO:tensorflow:loss = 0.48662275, step = 4000 (0.180 sec)\n",
      "INFO:tensorflow:global_step/sec: 657.309\n",
      "INFO:tensorflow:loss = 0.46961558, step = 4100 (0.154 sec)\n",
      "INFO:tensorflow:global_step/sec: 579.598\n",
      "INFO:tensorflow:loss = 0.47030973, step = 4200 (0.172 sec)\n",
      "INFO:tensorflow:global_step/sec: 696.323\n",
      "INFO:tensorflow:loss = 0.46845794, step = 4300 (0.145 sec)\n",
      "INFO:tensorflow:global_step/sec: 659.497\n",
      "INFO:tensorflow:loss = 0.46649432, step = 4400 (0.152 sec)\n",
      "INFO:tensorflow:global_step/sec: 646.901\n",
      "INFO:tensorflow:loss = 0.43264842, step = 4500 (0.154 sec)\n",
      "INFO:tensorflow:global_step/sec: 530.508\n",
      "INFO:tensorflow:loss = 0.43810108, step = 4600 (0.188 sec)\n",
      "INFO:tensorflow:global_step/sec: 453.763\n",
      "INFO:tensorflow:loss = 0.41713262, step = 4700 (0.222 sec)\n",
      "INFO:tensorflow:global_step/sec: 541.981\n",
      "INFO:tensorflow:loss = 0.41454595, step = 4800 (0.186 sec)\n",
      "INFO:tensorflow:global_step/sec: 547.788\n",
      "INFO:tensorflow:loss = 0.4048162, step = 4900 (0.181 sec)\n",
      "INFO:tensorflow:Calling checkpoint listeners before saving checkpoint 5000...\n",
      "INFO:tensorflow:Saving checkpoints for 5000 into C:\\Users\\sjhal\\AppData\\Local\\Temp\\tmp5x_1r0dn\\model.ckpt.\n",
      "INFO:tensorflow:Calling checkpoint listeners after saving checkpoint 5000...\n",
      "INFO:tensorflow:Loss for final step: 0.39407074.\n"
     ]
    },
    {
     "data": {
      "text/plain": [
       "<tensorflow_estimator.python.estimator.canned.dnn.DNNClassifierV2 at 0x293a077efd0>"
      ]
     },
     "execution_count": 10,
     "metadata": {},
     "output_type": "execute_result"
    }
   ],
   "source": [
    "classifier.train(input_fn = lambda: input_fn(train, train_y, training=True), steps=5000)"
   ]
  },
  {
   "cell_type": "code",
   "execution_count": 11,
   "metadata": {
    "scrolled": true
   },
   "outputs": [
    {
     "name": "stdout",
     "output_type": "stream",
     "text": [
      "INFO:tensorflow:Calling model_fn.\n",
      "WARNING:tensorflow:Layer dnn is casting an input tensor from dtype float64 to the layer's dtype of float32, which is new behavior in TensorFlow 2.  The layer has dtype float32 because its dtype defaults to floatx.\n",
      "\n",
      "If you intended to run this layer in float32, you can safely ignore this warning. If in doubt, this warning is likely only an issue if you are porting a TensorFlow 1.X model to TensorFlow 2.\n",
      "\n",
      "To change all layers to have dtype float64 by default, call `tf.keras.backend.set_floatx('float64')`. To change just this layer, pass dtype='float64' to the layer constructor. If you are the author of this layer, you can disable autocasting by passing autocast=False to the base Layer constructor.\n",
      "\n",
      "INFO:tensorflow:Done calling model_fn.\n",
      "INFO:tensorflow:Starting evaluation at 2020-11-23T17:39:43Z\n",
      "INFO:tensorflow:Graph was finalized.\n",
      "INFO:tensorflow:Restoring parameters from C:\\Users\\sjhal\\AppData\\Local\\Temp\\tmp5x_1r0dn\\model.ckpt-5000\n",
      "INFO:tensorflow:Running local_init_op.\n",
      "INFO:tensorflow:Done running local_init_op.\n",
      "INFO:tensorflow:Inference Time : 1.50481s\n",
      "INFO:tensorflow:Finished evaluation at 2020-11-23-17:39:45\n",
      "INFO:tensorflow:Saving dict for global step 5000: accuracy = 0.93333334, average_loss = 0.4679112, global_step = 5000, loss = 0.4679112\n",
      "INFO:tensorflow:Saving 'checkpoint_path' summary for global step 5000: C:\\Users\\sjhal\\AppData\\Local\\Temp\\tmp5x_1r0dn\\model.ckpt-5000\n"
     ]
    }
   ],
   "source": [
    "eval_result = classifier.evaluate(input_fn = lambda: input_fn(test,test_y,training=False))"
   ]
  },
  {
   "cell_type": "code",
   "execution_count": 13,
   "metadata": {},
   "outputs": [
    {
     "data": {
      "text/plain": [
       "0.93333334"
      ]
     },
     "execution_count": 13,
     "metadata": {},
     "output_type": "execute_result"
    }
   ],
   "source": [
    "eval_result['accuracy']"
   ]
  },
  {
   "cell_type": "code",
   "execution_count": 14,
   "metadata": {},
   "outputs": [],
   "source": [
    "def wild_guess(features, batch_size=256):\n",
    "    return tf.data.Dataset.from_tensor_slices(dict(features)).batch(batch_size)"
   ]
  },
  {
   "cell_type": "code",
   "execution_count": 23,
   "metadata": {},
   "outputs": [
    {
     "name": "stdout",
     "output_type": "stream",
     "text": [
      "SepalLength: 6.9\n",
      "SepalWidth: 3.1\n",
      "PetalLength: 5.4\n",
      "PetalWidth: 2.1\n"
     ]
    }
   ],
   "source": [
    "features = ['SepalLength', 'SepalWidth', 'PetalLength', 'PetalWidth']\n",
    "predict = {}\n",
    "for feature in features:\n",
    "    valid = True\n",
    "    while valid:\n",
    "        val = input(feature+\": \")\n",
    "        if not val.isdigit(): valid = False\n",
    "    predict[feature] = [float(val)]\n",
    "predictions = classifier.predict(input_fn = lambda: wild_guess(predict))"
   ]
  },
  {
   "cell_type": "code",
   "execution_count": 24,
   "metadata": {},
   "outputs": [
    {
     "name": "stdout",
     "output_type": "stream",
     "text": [
      "INFO:tensorflow:Calling model_fn.\n",
      "INFO:tensorflow:Done calling model_fn.\n",
      "INFO:tensorflow:Graph was finalized.\n",
      "INFO:tensorflow:Restoring parameters from C:\\Users\\sjhal\\AppData\\Local\\Temp\\tmp5x_1r0dn\\model.ckpt-5000\n",
      "INFO:tensorflow:Running local_init_op.\n",
      "INFO:tensorflow:Done running local_init_op.\n",
      "Prediction is \"Virginica\" (61.0%)\n"
     ]
    }
   ],
   "source": [
    "for pred_dict in predictions:\n",
    "    class_id = pred_dict['class_ids'][0]\n",
    "    probability = pred_dict['probabilities'][class_id]\n",
    "    print('Prediction is \"{}\" ({:.1f}%)'.format(SPECIES[class_id], 100*probability))"
   ]
  }
 ],
 "metadata": {
  "kernelspec": {
   "display_name": "Python 3",
   "language": "python",
   "name": "python3"
  },
  "language_info": {
   "codemirror_mode": {
    "name": "ipython",
    "version": 3
   },
   "file_extension": ".py",
   "mimetype": "text/x-python",
   "name": "python",
   "nbconvert_exporter": "python",
   "pygments_lexer": "ipython3",
   "version": "3.6.10"
  }
 },
 "nbformat": 4,
 "nbformat_minor": 4
}
