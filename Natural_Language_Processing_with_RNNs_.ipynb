{
 "cells": [
  {
   "cell_type": "markdown",
   "metadata": {
    "id": "h5cjtsHP8t5Y"
   },
   "source": [
    "#Natural Language Processing \n",
    "Natural Language Processing (or NLP for short) is a discipline in computing that deals with the communication between natural (human) languages and computer languages. A common example of NLP is something like spellcheck or autocomplete. Essentially NLP is the field that focuses on how computers can understand and/or process natural/human languages. \n",
    "\n",
    "###Recurrent Neural Networks\n",
    "\n",
    "In this tutorial we will introduce a new kind of neural network that is much more capable of processing sequential data such as text or characters called a **recurrent neural network** (RNN for short). \n",
    "\n",
    "We will learn how to use a reccurent neural network to do the following:\n",
    "- Sentiment Analysis\n",
    "- Character Generation \n",
    "\n",
    "RNN's are complex and come in many different forms so in this tutorial we wil focus on how they work and the kind of problems they are best suited for.\n",
    "\n"
   ]
  },
  {
   "cell_type": "markdown",
   "metadata": {
    "id": "ur_FQq-Q-fxC"
   },
   "source": [
    "## Sequence Data\n",
    "In the previous tutorials we focused on data that we could represent as one static data point where the notion of time or step was irrelevant. Take for example our image data, it was simply a tensor of shape (width, height, channels). That data doesn't change or care about the notion of time. \n",
    "\n",
    "In this tutorial we will look at sequences of text and learn how we can encode them in a meaningful way. Unlike images, sequence data such as long chains of text, weather patterns, videos and really anything where the notion of a step or time is relevant needs to be processed and handled in a special way. \n",
    "\n",
    "But what do I mean by sequences and why is text data a sequence? Well that's a good question. Since textual data contains many words that follow in a very specific and meaningful order, we need to be able to keep track of each word and when it occurs in the data. Simply encoding say an entire paragraph of text into one data point wouldn't give us a very meaningful picture of the data and would be very difficult to do anything with. This is why we treat text as a sequence and process one word at a time. We will keep track of where each of these words appear and use that information to try to understand the meaning of peices of text.\n",
    "\n"
   ]
  },
  {
   "cell_type": "markdown",
   "metadata": {
    "id": "8gQHK4V4e2wl"
   },
   "source": [
    "##Encoding Text\n",
    "As we know machine learning models and neural networks don't take raw text data as an input. This means we must somehow encode our textual data to numeric values that our models can understand. There are many different ways of doing this and we will look at a few examples below. \n",
    "\n",
    "Before we get into the different encoding/preprocessing methods let's understand the information we can get from textual data by looking at the following two movie reviews.\n",
    "\n",
    "```I thought the movie was going to be bad, but it was actually amazing!```\n",
    "\n",
    "```I thought the movie was going to be amazing, but it was actually bad!```\n",
    "\n",
    "Although these two setences are very similar we know that they have very different meanings. This is because of the **ordering** of words, a very important property of textual data.\n",
    "\n",
    "Now keep that in mind while we consider some different ways of encoding our textual data.\n",
    "\n",
    "###Bag of Words\n",
    "The first and simplest way to encode our data is to use something called **bag of words**. This is a pretty easy technique where each word in a sentence is encoded with an integer and thrown into a collection that does not maintain the order of the words but does keep track of the frequency. Have a look at the python function below that encodes a string of text into bag of words. "
   ]
  },
  {
   "cell_type": "code",
   "execution_count": null,
   "metadata": {
    "id": "5KiCCBsIkMHi"
   },
   "outputs": [],
   "source": [
    "vocab = {}  # maps word to integer representing it\n",
    "word_encoding = 1\n",
    "def bag_of_words(text):\n",
    "  global word_encoding\n",
    "\n",
    "  words = text.lower().split(\" \")  # create a list of all of the words in the text, well assume there is no grammar in our text for this example\n",
    "  bag = {}  # stores all of the encodings and their frequency\n",
    "\n",
    "  for word in words:\n",
    "    if word in vocab:\n",
    "      encoding = vocab[word]  # get encoding from vocab\n",
    "    else:\n",
    "      vocab[word] = word_encoding\n",
    "      encoding = word_encoding\n",
    "      word_encoding += 1\n",
    "    \n",
    "    if encoding in bag:\n",
    "      bag[encoding] += 1\n",
    "    else:\n",
    "      bag[encoding] = 1\n",
    "  \n",
    "  return bag\n",
    "\n",
    "text = \"this is a test to see if this test will work is is test a a\"\n",
    "bag = bag_of_words(text)\n",
    "print(bag)\n",
    "print(vocab)"
   ]
  },
  {
   "cell_type": "markdown",
   "metadata": {
    "id": "4hEvstSBl1gy"
   },
   "source": [
    "This isn't really the way we would do this in practice, but I hope it gives you an idea of how bag of words works. Notice that we've lost the order in which words appear. In fact, let's look at how this encoding works for the two sentences we showed above.\n",
    "\n"
   ]
  },
  {
   "cell_type": "code",
   "execution_count": null,
   "metadata": {
    "id": "miYshfvzmJ0H"
   },
   "outputs": [],
   "source": [
    "positive_review = \"I thought the movie was going to be bad but it was actually amazing\"\n",
    "negative_review = \"I thought the movie was going to be amazing but it was actually bad\"\n",
    "\n",
    "pos_bag = bag_of_words(positive_review)\n",
    "neg_bag = bag_of_words(negative_review)\n",
    "\n",
    "print(\"Positive:\", pos_bag)\n",
    "print(\"Negative:\", neg_bag)"
   ]
  },
  {
   "cell_type": "markdown",
   "metadata": {
    "id": "Pl7Fw9s3mkfK"
   },
   "source": [
    "We can see that even though these sentences have a very different meaning they are encoded exaclty the same way. Obviously, this isn't going to fly. Let's look at some other methods.\n",
    "\n"
   ]
  },
  {
   "cell_type": "markdown",
   "metadata": {
    "id": "DUKTycffmu1k"
   },
   "source": [
    "###Integer Encoding\n",
    "The next technique we will look at is called **integer encoding**. This involves representing each word or character in a sentence as a unique integer and maintaining the order of these words. This should hopefully fix the problem we saw before were we lost the order of words.\n"
   ]
  },
  {
   "cell_type": "code",
   "execution_count": null,
   "metadata": {
    "id": "MKY4y_tjnUEW"
   },
   "outputs": [],
   "source": [
    "vocab = {}  \n",
    "word_encoding = 1\n",
    "def one_hot_encoding(text):\n",
    "  global word_encoding\n",
    "\n",
    "  words = text.lower().split(\" \") \n",
    "  encoding = []  \n",
    "\n",
    "  for word in words:\n",
    "    if word in vocab:\n",
    "      code = vocab[word]  \n",
    "      encoding.append(code) \n",
    "    else:\n",
    "      vocab[word] = word_encoding\n",
    "      encoding.append(word_encoding)\n",
    "      word_encoding += 1\n",
    "  \n",
    "  return encoding\n",
    "\n",
    "text = \"this is a test to see if this test will work is is test a a\"\n",
    "encoding = one_hot_encoding(text)\n",
    "print(encoding)\n",
    "print(vocab)"
   ]
  },
  {
   "cell_type": "markdown",
   "metadata": {
    "id": "TOrLG9Bin0Zv"
   },
   "source": [
    "And now let's have a look at one hot encoding on our movie reviews."
   ]
  },
  {
   "cell_type": "code",
   "execution_count": null,
   "metadata": {
    "id": "1S-GNjotn-Br"
   },
   "outputs": [],
   "source": [
    "positive_review = \"I thought the movie was going to be bad but it was actually amazing\"\n",
    "negative_review = \"I thought the movie was going to be amazing but it was actually bad\"\n",
    "\n",
    "pos_encode = one_hot_encoding(positive_review)\n",
    "neg_encode = one_hot_encoding(negative_review)\n",
    "\n",
    "print(\"Positive:\", pos_encode)\n",
    "print(\"Negative:\", neg_encode)"
   ]
  },
  {
   "cell_type": "markdown",
   "metadata": {
    "id": "jC9UYV4vpq6Y"
   },
   "source": [
    "Much better, now we are keeping track of the order of words and we can tell where each occurs. But this still has a few issues with it. Ideally when we encode words, we would like similar words to have similar labels and different words to have very different labels. For example, the words happy and joyful should probably have very similar labels so we can determine that they are similar. While words like horrible and amazing should probably have very different labels. The method we looked at above won't be able to do something like this for us. This could mean that the model will have a very difficult time determing if two words are similar or not which could result in some pretty drastic performace impacts.\n",
    "\n"
   ]
  },
  {
   "cell_type": "markdown",
   "metadata": {
    "id": "JRZ73YCqqiw9"
   },
   "source": [
    "###Word Embeddings\n",
    "Luckily there is a third method that is far superior, **word embeddings**. This method keeps the order of words intact as well as encodes similar words with very similar labels. It attempts to not only encode the frequency and order of words but the meaning of those words in the sentence. It encodes each word as a dense vector that represents its context in the sentence.\n",
    "\n",
    "Unlike the previous techniques word embeddings are learned by looking at many different training examples. You can add what's called an *embedding layer* to the beggining of your model and while your model trains your embedding layer will learn the correct embeddings for words. You can also use pretrained embedding layers.\n",
    "\n",
    "This is the technique we will use for our examples and its implementation will be showed later on.\n",
    "\n"
   ]
  },
  {
   "cell_type": "markdown",
   "metadata": {
    "id": "ehig3qliuUzk"
   },
   "source": [
    "##Recurrent Neural Networks (RNN's)\n",
    "Now that we've learned a little bit about how we can encode text it's time to dive into recurrent neural networks. Up until this point we have been using something called **feed-forward** neural networks. This simply means that all our data is fed forwards (all at once) from left to right through the network. This was fine for the problems we considered before but won't work very well for processing text. After all, even we (humans) don't process text all at once. We read word by word from left to right and keep track of the current meaning of the sentence so we can understand the meaning of the next word. Well this is exaclty what a recurrent neural network is designed to do. When we say recurrent neural network all we really mean is a network that contains a loop. A RNN will process one word at a time while maintaining an internal memory of what it's already seen. This will allow it to treat words differently based on their order in a sentence and to slowly build an understanding of the entire input, one word at a time.\n",
    "\n",
    "This is why we are treating our text data as a sequence! So that we can pass one word at a time to the RNN.\n",
    "\n",
    "Let's have a look at what a recurrent layer might look like.\n",
    "\n",
    "![alt text](https://colah.github.io/posts/2015-08-Understanding-LSTMs/img/RNN-unrolled.png)\n",
    "*Source: https://colah.github.io/posts/2015-08-Understanding-LSTMs/*\n",
    "\n",
    "Let's define what all these variables stand for before we get into the explination.\n",
    "\n",
    "**h<sub>t</sub>** output at time t\n",
    "\n",
    "**x<sub>t</sub>** input at time t\n",
    "\n",
    "**A** Recurrent Layer (loop)\n",
    "\n",
    "What this diagram is trying to illustrate is that a recurrent layer processes words or input one at a time in a combination with the output from the previous iteration. So, as we progress further in the input sequence, we build a more complex understanding of the text as a whole.\n",
    "\n",
    "What we've just looked at is called a **simple RNN layer**. It can be effective at processing shorter sequences of text for simple problems but has many downfalls associated with it. One of them being the fact that as text sequences get longer it gets increasingly difficult for the network to understand the text properly.\n",
    "\n"
   ]
  },
  {
   "cell_type": "markdown",
   "metadata": {
    "id": "Fo3WY-e86zX2"
   },
   "source": [
    "##LSTM\n",
    "The layer we dicussed in depth above was called a *simpleRNN*. However, there does exist some other recurrent layers (layers that contain a loop) that work much better than a simple RNN layer. The one we will talk about here is called LSTM (Long Short-Term Memory). This layer works very similarily to the simpleRNN layer but adds a way to access inputs from any timestep in the past. Whereas in our simple RNN layer input from previous timestamps gradually disappeared as we got further through the input. With a LSTM we have a long-term memory data structure storing all the previously seen inputs as well as when we saw them. This allows for us to access any previous value we want at any point in time. This adds to the complexity of our network and allows it to discover more useful relationships between inputs and when they appear. \n",
    "\n",
    "For the purpose of this course we will refrain from going any further into the math or details behind how these layers work.\n",
    "\n"
   ]
  },
  {
   "cell_type": "markdown",
   "metadata": {
    "id": "CRGOx6_v4eZ_"
   },
   "source": [
    "##Sentiment Analysis\n",
    "And now time to see a recurrent neural network in action. For this example, we are going to do something called sentiment analysis.\n",
    "\n",
    "The formal definition of this term from Wikipedia is as follows:\n",
    "\n",
    "*the process of computationally identifying and categorizing opinions expressed in a piece of text, especially in order to determine whether the writer's attitude towards a particular topic, product, etc. is positive, negative, or neutral.*\n",
    "\n",
    "The example we’ll use here is classifying movie reviews as either postive, negative or neutral.\n",
    "\n",
    "*This guide is based on the following tensorflow tutorial: https://www.tensorflow.org/tutorials/text/text_classification_rnn*\n",
    "\n"
   ]
  },
  {
   "cell_type": "markdown",
   "metadata": {
    "id": "RACGE5Ypt5u9"
   },
   "source": [
    "###Movie Review Dataset\n",
    "Well start by loading in the IMDB movie review dataset from keras. This dataset contains 25,000 reviews from IMDB where each one is already preprocessed and has a label as either positive or negative. Each review is encoded by integers that represents how common a word is in the entire dataset. For example, a word encoded by the integer 3 means that it is the 3rd most common word in the dataset.\n",
    " \n",
    "\n",
    "\n"
   ]
  },
  {
   "cell_type": "code",
   "execution_count": 4,
   "metadata": {
    "id": "pdsus1kyXWC8"
   },
   "outputs": [
    {
     "name": "stdout",
     "output_type": "stream",
     "text": [
      "Downloading data from https://storage.googleapis.com/tensorflow/tf-keras-datasets/imdb.npz\n",
      "17465344/17464789 [==============================] - 0s 0us/step\n"
     ]
    }
   ],
   "source": [
    "#%tensorflow_version 2.x  # this line is not required unless you are in a notebook\n",
    "import tensorflow.keras\n",
    "from tensorflow.keras.datasets import imdb\n",
    "from tensorflow.keras.preprocessing import sequence\n",
    "import tensorflow as tf\n",
    "import os\n",
    "import numpy as np\n",
    "\n",
    "VOCAB_SIZE = 88584\n",
    "\n",
    "MAXLEN = 250\n",
    "BATCH_SIZE = 64\n",
    "\n",
    "(train_data, train_labels), (test_data, test_labels) = imdb.load_data(num_words = VOCAB_SIZE)"
   ]
  },
  {
   "cell_type": "code",
   "execution_count": 5,
   "metadata": {
    "id": "Wh6lOpcQ9sIZ"
   },
   "outputs": [
    {
     "data": {
      "text/plain": [
       "[1,\n",
       " 194,\n",
       " 1153,\n",
       " 194,\n",
       " 8255,\n",
       " 78,\n",
       " 228,\n",
       " 5,\n",
       " 6,\n",
       " 1463,\n",
       " 4369,\n",
       " 5012,\n",
       " 134,\n",
       " 26,\n",
       " 4,\n",
       " 715,\n",
       " 8,\n",
       " 118,\n",
       " 1634,\n",
       " 14,\n",
       " 394,\n",
       " 20,\n",
       " 13,\n",
       " 119,\n",
       " 954,\n",
       " 189,\n",
       " 102,\n",
       " 5,\n",
       " 207,\n",
       " 110,\n",
       " 3103,\n",
       " 21,\n",
       " 14,\n",
       " 69,\n",
       " 188,\n",
       " 8,\n",
       " 30,\n",
       " 23,\n",
       " 7,\n",
       " 4,\n",
       " 249,\n",
       " 126,\n",
       " 93,\n",
       " 4,\n",
       " 114,\n",
       " 9,\n",
       " 2300,\n",
       " 1523,\n",
       " 5,\n",
       " 647,\n",
       " 4,\n",
       " 116,\n",
       " 9,\n",
       " 35,\n",
       " 8163,\n",
       " 4,\n",
       " 229,\n",
       " 9,\n",
       " 340,\n",
       " 1322,\n",
       " 4,\n",
       " 118,\n",
       " 9,\n",
       " 4,\n",
       " 130,\n",
       " 4901,\n",
       " 19,\n",
       " 4,\n",
       " 1002,\n",
       " 5,\n",
       " 89,\n",
       " 29,\n",
       " 952,\n",
       " 46,\n",
       " 37,\n",
       " 4,\n",
       " 455,\n",
       " 9,\n",
       " 45,\n",
       " 43,\n",
       " 38,\n",
       " 1543,\n",
       " 1905,\n",
       " 398,\n",
       " 4,\n",
       " 1649,\n",
       " 26,\n",
       " 6853,\n",
       " 5,\n",
       " 163,\n",
       " 11,\n",
       " 3215,\n",
       " 10156,\n",
       " 4,\n",
       " 1153,\n",
       " 9,\n",
       " 194,\n",
       " 775,\n",
       " 7,\n",
       " 8255,\n",
       " 11596,\n",
       " 349,\n",
       " 2637,\n",
       " 148,\n",
       " 605,\n",
       " 15358,\n",
       " 8003,\n",
       " 15,\n",
       " 123,\n",
       " 125,\n",
       " 68,\n",
       " 23141,\n",
       " 6853,\n",
       " 15,\n",
       " 349,\n",
       " 165,\n",
       " 4362,\n",
       " 98,\n",
       " 5,\n",
       " 4,\n",
       " 228,\n",
       " 9,\n",
       " 43,\n",
       " 36893,\n",
       " 1157,\n",
       " 15,\n",
       " 299,\n",
       " 120,\n",
       " 5,\n",
       " 120,\n",
       " 174,\n",
       " 11,\n",
       " 220,\n",
       " 175,\n",
       " 136,\n",
       " 50,\n",
       " 9,\n",
       " 4373,\n",
       " 228,\n",
       " 8255,\n",
       " 5,\n",
       " 25249,\n",
       " 656,\n",
       " 245,\n",
       " 2350,\n",
       " 5,\n",
       " 4,\n",
       " 9837,\n",
       " 131,\n",
       " 152,\n",
       " 491,\n",
       " 18,\n",
       " 46151,\n",
       " 32,\n",
       " 7464,\n",
       " 1212,\n",
       " 14,\n",
       " 9,\n",
       " 6,\n",
       " 371,\n",
       " 78,\n",
       " 22,\n",
       " 625,\n",
       " 64,\n",
       " 1382,\n",
       " 9,\n",
       " 8,\n",
       " 168,\n",
       " 145,\n",
       " 23,\n",
       " 4,\n",
       " 1690,\n",
       " 15,\n",
       " 16,\n",
       " 4,\n",
       " 1355,\n",
       " 5,\n",
       " 28,\n",
       " 6,\n",
       " 52,\n",
       " 154,\n",
       " 462,\n",
       " 33,\n",
       " 89,\n",
       " 78,\n",
       " 285,\n",
       " 16,\n",
       " 145,\n",
       " 95]"
      ]
     },
     "execution_count": 5,
     "metadata": {},
     "output_type": "execute_result"
    }
   ],
   "source": [
    "# Lets look at one review\n",
    "train_data[1]"
   ]
  },
  {
   "cell_type": "markdown",
   "metadata": {
    "id": "EAtZHE9-eQ07"
   },
   "source": [
    "### More Preprocessing\n",
    "If we have a look at some of our loaded in reviews, we'll notice that they are different lengths. This is an issue. We cannot pass different length data into our neural network. Therefore, we must make each review the same length. To do this we will follow the procedure below:\n",
    "- if the review is greater than 250 words then trim off the extra words\n",
    "- if the review is less than 250 words add the necessary amount of 0's to make it equal to 250.\n",
    "\n",
    "Luckily for us keras has a function that can do this for us:\n",
    "\n",
    "\n"
   ]
  },
  {
   "cell_type": "code",
   "execution_count": 6,
   "metadata": {
    "id": "Z3qQ83sNeog6"
   },
   "outputs": [],
   "source": [
    "train_data = sequence.pad_sequences(train_data, MAXLEN)\n",
    "test_data = sequence.pad_sequences(test_data, MAXLEN)"
   ]
  },
  {
   "cell_type": "markdown",
   "metadata": {
    "id": "mDm_0RTVir7I"
   },
   "source": [
    "###Creating the Model\n",
    "Now it's time to create the model. We'll use a word embedding layer as the first layer in our model and add a LSTM layer afterwards that feeds into a dense node to get our predicted sentiment. \n",
    "\n",
    "32 stands for the output dimension of the vectors generated by the embedding layer. We can change this value if we'd like!"
   ]
  },
  {
   "cell_type": "code",
   "execution_count": 7,
   "metadata": {
    "id": "OWGGcBIpjrMu"
   },
   "outputs": [],
   "source": [
    "model = tf.keras.Sequential([\n",
    "    tf.keras.layers.Embedding(VOCAB_SIZE, 32),\n",
    "    tf.keras.layers.LSTM(32),\n",
    "    tf.keras.layers.Dense(1, activation=\"sigmoid\")\n",
    "])"
   ]
  },
  {
   "cell_type": "code",
   "execution_count": 8,
   "metadata": {
    "id": "O8_jPL_Kkr-a"
   },
   "outputs": [
    {
     "name": "stdout",
     "output_type": "stream",
     "text": [
      "Model: \"sequential\"\n",
      "_________________________________________________________________\n",
      "Layer (type)                 Output Shape              Param #   \n",
      "=================================================================\n",
      "embedding (Embedding)        (None, None, 32)          2834688   \n",
      "_________________________________________________________________\n",
      "lstm (LSTM)                  (None, 32)                8320      \n",
      "_________________________________________________________________\n",
      "dense (Dense)                (None, 1)                 33        \n",
      "=================================================================\n",
      "Total params: 2,843,041\n",
      "Trainable params: 2,843,041\n",
      "Non-trainable params: 0\n",
      "_________________________________________________________________\n"
     ]
    }
   ],
   "source": [
    "model.summary()"
   ]
  },
  {
   "cell_type": "markdown",
   "metadata": {
    "id": "eyeQCk3LlK6V"
   },
   "source": [
    "###Training\n",
    "Now it's time to compile and train the model. "
   ]
  },
  {
   "cell_type": "code",
   "execution_count": 9,
   "metadata": {
    "id": "KKEMjaIulPBe"
   },
   "outputs": [
    {
     "name": "stdout",
     "output_type": "stream",
     "text": [
      "Epoch 1/10\n",
      "625/625 [==============================] - 47s 76ms/step - loss: 0.4245 - acc: 0.8065 - val_loss: 0.2834 - val_acc: 0.8858\n",
      "Epoch 2/10\n",
      "625/625 [==============================] - 48s 76ms/step - loss: 0.2420 - acc: 0.9087 - val_loss: 0.2815 - val_acc: 0.8856\n",
      "Epoch 3/10\n",
      "625/625 [==============================] - 47s 76ms/step - loss: 0.1848 - acc: 0.9326 - val_loss: 0.2822 - val_acc: 0.8860\n",
      "Epoch 4/10\n",
      "625/625 [==============================] - 37s 60ms/step - loss: 0.1498 - acc: 0.9472 - val_loss: 0.3516 - val_acc: 0.8858\n",
      "Epoch 5/10\n",
      "625/625 [==============================] - 35s 56ms/step - loss: 0.1307 - acc: 0.9542 - val_loss: 0.3170 - val_acc: 0.8900\n",
      "Epoch 6/10\n",
      "625/625 [==============================] - 35s 56ms/step - loss: 0.1077 - acc: 0.9643 - val_loss: 0.3218 - val_acc: 0.8890\n",
      "Epoch 7/10\n",
      "625/625 [==============================] - 35s 55ms/step - loss: 0.0973 - acc: 0.9669 - val_loss: 0.3238 - val_acc: 0.8876\n",
      "Epoch 8/10\n",
      "625/625 [==============================] - 42s 68ms/step - loss: 0.0864 - acc: 0.9710 - val_loss: 0.3676 - val_acc: 0.8794\n",
      "Epoch 9/10\n",
      "625/625 [==============================] - 35s 55ms/step - loss: 0.0754 - acc: 0.9746 - val_loss: 0.4504 - val_acc: 0.8852\n",
      "Epoch 10/10\n",
      "625/625 [==============================] - 35s 55ms/step - loss: 0.0690 - acc: 0.9790 - val_loss: 0.3861 - val_acc: 0.8668\n"
     ]
    }
   ],
   "source": [
    "model.compile(loss=\"binary_crossentropy\",optimizer=\"rmsprop\",metrics=['acc'])\n",
    "\n",
    "history = model.fit(train_data, train_labels, epochs=10, validation_split=0.2)"
   ]
  },
  {
   "cell_type": "markdown",
   "metadata": {
    "id": "3buYlkkhoK93"
   },
   "source": [
    "And we'll evaluate the model on our training data to see how well it performs."
   ]
  },
  {
   "cell_type": "code",
   "execution_count": 10,
   "metadata": {
    "id": "KImNMWTDoJaQ"
   },
   "outputs": [
    {
     "name": "stdout",
     "output_type": "stream",
     "text": [
      "782/782 [==============================] - 12s 15ms/step - loss: 0.4353 - acc: 0.8504\n",
      "[0.43533843755722046, 0.8503999710083008]\n"
     ]
    }
   ],
   "source": [
    "results = model.evaluate(test_data, test_labels)\n",
    "print(results)"
   ]
  },
  {
   "cell_type": "markdown",
   "metadata": {
    "id": "N1RRGcr9CFCW"
   },
   "source": [
    "So we're scoring somewhere in the mid-high 80's. Not bad for a simple recurrent network."
   ]
  },
  {
   "cell_type": "markdown",
   "metadata": {
    "id": "lGrBRC4YCObV"
   },
   "source": [
    "###Making Predictions\n",
    "Now let’s use our network to make predictions on our own reviews. \n",
    "\n",
    "Since our reviews are encoded well need to convert any review that we write into that form so the network can understand it. To do that well load the encodings from the dataset and use them to encode our own data.\n",
    "\n",
    "\n"
   ]
  },
  {
   "cell_type": "code",
   "execution_count": 12,
   "metadata": {
    "id": "Onu8leY4Cn9z"
   },
   "outputs": [
    {
     "name": "stdout",
     "output_type": "stream",
     "text": [
      "[  0   0   0   0   0   0   0   0   0   0   0   0   0   0   0   0   0   0\n",
      "   0   0   0   0   0   0   0   0   0   0   0   0   0   0   0   0   0   0\n",
      "   0   0   0   0   0   0   0   0   0   0   0   0   0   0   0   0   0   0\n",
      "   0   0   0   0   0   0   0   0   0   0   0   0   0   0   0   0   0   0\n",
      "   0   0   0   0   0   0   0   0   0   0   0   0   0   0   0   0   0   0\n",
      "   0   0   0   0   0   0   0   0   0   0   0   0   0   0   0   0   0   0\n",
      "   0   0   0   0   0   0   0   0   0   0   0   0   0   0   0   0   0   0\n",
      "   0   0   0   0   0   0   0   0   0   0   0   0   0   0   0   0   0   0\n",
      "   0   0   0   0   0   0   0   0   0   0   0   0   0   0   0   0   0   0\n",
      "   0   0   0   0   0   0   0   0   0   0   0   0   0   0   0   0   0   0\n",
      "   0   0   0   0   0   0   0   0   0   0   0   0   0   0   0   0   0   0\n",
      "   0   0   0   0   0   0   0   0   0   0   0   0   0   0   0   0   0   0\n",
      "   0   0   0   0   0   0   0   0   0   0   0   0   0   0   0   0   0   0\n",
      "   0   0   0   0   0   0   0   0   0  12  17  13  40 477  35 477]\n"
     ]
    }
   ],
   "source": [
    "word_index = imdb.get_word_index()\n",
    "\n",
    "def encode_text(text):\n",
    "  tokens = tf.keras.preprocessing.text.text_to_word_sequence(text)\n",
    "  tokens = [word_index[word] if word in word_index else 0 for word in tokens]\n",
    "  return sequence.pad_sequences([tokens], MAXLEN)[0]\n",
    "\n",
    "text = \"that movie was just amazing, so amazing\"\n",
    "encoded = encode_text(text)\n",
    "print(encoded)\n"
   ]
  },
  {
   "cell_type": "code",
   "execution_count": 13,
   "metadata": {
    "id": "PKna3vxmFwrB"
   },
   "outputs": [
    {
     "name": "stdout",
     "output_type": "stream",
     "text": [
      "that movie was just amazing so amazing\n"
     ]
    }
   ],
   "source": [
    "# while were at it lets make a decode function\n",
    "\n",
    "reverse_word_index = {value: key for (key, value) in word_index.items()}\n",
    "\n",
    "def decode_integers(integers):\n",
    "    PAD = 0\n",
    "    text = \"\"\n",
    "    for num in integers:\n",
    "      if num != PAD:\n",
    "        text += reverse_word_index[num] + \" \"\n",
    "\n",
    "    return text[:-1]\n",
    "  \n",
    "print(decode_integers(encoded))"
   ]
  },
  {
   "cell_type": "code",
   "execution_count": 19,
   "metadata": {
    "id": "L8nyrr00HPZF"
   },
   "outputs": [
    {
     "name": "stdout",
     "output_type": "stream",
     "text": [
      "[0.92706263]\n",
      "[0.34494454]\n",
      "Write a POSITIVE review of a movie: Hooray. What a great movie! Would definitely love to watch it again.\n",
      "[0.8164835]\n",
      "Write a NEGATIVE review of a movie: This is the worst. The actual worst. I cannot imagine a worse plot or actors to star in a movie.\n",
      "[0.2556476]\n"
     ]
    }
   ],
   "source": [
    "# now time to make a prediction\n",
    "\n",
    "def predict(text):\n",
    "  encoded_text = encode_text(text)\n",
    "  pred = np.zeros((1,250))\n",
    "  pred[0] = encoded_text\n",
    "  result = model.predict(pred) \n",
    "  print(result[0])\n",
    "\n",
    "positive_review = \"That movie was! really loved it and would great watch it again because it was amazingly great\"\n",
    "predict(positive_review)\n",
    "\n",
    "negative_review = \"that movie really sucked. I hated it and wouldn't watch it again. Was one of the worst things I've ever watched\"\n",
    "predict(negative_review)\n",
    "\n",
    "positive_review = input(\"Write a POSITIVE review of a movie: \")\n",
    "predict(positive_review)\n",
    "\n",
    "negative_review = input(\"Write a NEGATIVE review of a movie: \")\n",
    "predict(negative_review)\n"
   ]
  },
  {
   "cell_type": "markdown",
   "metadata": {
    "id": "01BJLcGb4ZqK"
   },
   "source": [
    "##RNN Play Generator\n",
    "\n",
    "Now time for one of the coolest examples we've seen so far. We are going to use a RNN to generate a play. We will simply show the RNN an example of something we want it to recreate and it will learn how to write a version of it on its own. We'll do this using a character predictive model that will take as input a variable length sequence and predict the next character. We can use the model many times in a row with the output from the last predicition as the input for the next call to generate a sequence.\n",
    "\n",
    "\n",
    "*This guide is based on the following: https://www.tensorflow.org/tutorials/text/text_generation*"
   ]
  },
  {
   "cell_type": "code",
   "execution_count": 1,
   "metadata": {
    "id": "fju7i1FKrK_G"
   },
   "outputs": [
    {
     "name": "stderr",
     "output_type": "stream",
     "text": [
      "Using TensorFlow backend.\n"
     ]
    }
   ],
   "source": [
    "# %tensorflow_version 2.x  # this line is not required unless you are in a notebook\n",
    "import tensorflow as tf\n",
    "import keras as keras\n",
    "from keras.preprocessing import sequence\n",
    "import os\n",
    "import numpy as np"
   ]
  },
  {
   "cell_type": "markdown",
   "metadata": {
    "id": "F48c-EctQ378"
   },
   "source": [
    "###Dataset\n",
    "For this example, we only need one peice of training data. In fact, we can write our own poem or play and pass that to the network for training if we'd like. However, to make things easy we'll use an extract from a shakesphere play.\n",
    "\n",
    "\n"
   ]
  },
  {
   "cell_type": "code",
   "execution_count": 2,
   "metadata": {
    "id": "IdRcVIhtRGlF",
    "scrolled": false
   },
   "outputs": [],
   "source": [
    "path_to_file = tf.keras.utils.get_file('shakespeare.txt', 'https://storage.googleapis.com/download.tensorflow.org/data/shakespeare.txt')"
   ]
  },
  {
   "cell_type": "markdown",
   "metadata": {
    "id": "NlSVGd5ACkZe"
   },
   "source": [
    "###Loading Your Own Data\n",
    "To load your own data, you'll need to upload a file from the dialog below. Then you'll need to follow the steps from above but load in this new file instead.\n",
    "\n"
   ]
  },
  {
   "cell_type": "code",
   "execution_count": 3,
   "metadata": {
    "id": "CFYFwbJOC3bP",
    "scrolled": true
   },
   "outputs": [],
   "source": [
    "# from google.colab import files\n",
    "# path_to_file = list(files.upload().keys())[0]"
   ]
  },
  {
   "cell_type": "markdown",
   "metadata": {
    "id": "KtJMEqQyRhAk"
   },
   "source": [
    "###Read Contents of File\n",
    "Let's look at the contents of the file."
   ]
  },
  {
   "cell_type": "code",
   "execution_count": 4,
   "metadata": {
    "id": "-n4oovOMRnP7"
   },
   "outputs": [
    {
     "name": "stdout",
     "output_type": "stream",
     "text": [
      "Length of text: 1115394 characters\n"
     ]
    }
   ],
   "source": [
    "# Read, then decode for py2 compat.\n",
    "text = open(path_to_file, 'rb').read().decode(encoding='utf-8')\n",
    "# length of text is the number of characters in it\n",
    "print ('Length of text: {} characters'.format(len(text)))"
   ]
  },
  {
   "cell_type": "code",
   "execution_count": 5,
   "metadata": {
    "id": "KHUxQVl7Rt10"
   },
   "outputs": [
    {
     "name": "stdout",
     "output_type": "stream",
     "text": [
      "First Citizen:\n",
      "Before we proceed any further, hear me speak.\n",
      "\n",
      "All:\n",
      "Speak, speak.\n",
      "\n",
      "First Citizen:\n",
      "You are all resolved rather to die than to famish?\n",
      "\n",
      "All:\n",
      "Resolved. resolved.\n",
      "\n",
      "First Citizen:\n",
      "First, you know Caius Marcius is chief enemy to the people.\n",
      "\n"
     ]
    }
   ],
   "source": [
    "# Take a look at the first 250 characters in text\n",
    "print(text[:250])"
   ]
  },
  {
   "cell_type": "markdown",
   "metadata": {
    "id": "5vt8Vpe0RvaJ"
   },
   "source": [
    "###Encoding\n",
    "Since this text isn't encoded yet well need to do that ourselves. We are going to encode each unique character as a different integer.\n",
    "\n"
   ]
  },
  {
   "cell_type": "code",
   "execution_count": 6,
   "metadata": {
    "id": "C7AZNI7aRz6y"
   },
   "outputs": [],
   "source": [
    "vocab = sorted(set(text))\n",
    "# Creating a mapping from unique characters to indices\n",
    "char2idx = {u:i for i, u in enumerate(vocab)}\n",
    "idx2char = np.array(vocab)\n",
    "\n",
    "def text_to_int(text):\n",
    "  return np.array([char2idx[c] for c in text])\n",
    "\n",
    "text_as_int = text_to_int(text)"
   ]
  },
  {
   "cell_type": "code",
   "execution_count": 7,
   "metadata": {
    "id": "_i5kvmX_SLW4"
   },
   "outputs": [
    {
     "name": "stdout",
     "output_type": "stream",
     "text": [
      "Text: First Citizen\n",
      "Encoded: [18 47 56 57 58  1 15 47 58 47 64 43 52]\n"
     ]
    }
   ],
   "source": [
    "# lets look at how part of our text is encoded\n",
    "print(\"Text:\", text[:13])\n",
    "print(\"Encoded:\", text_to_int(text[:13]))"
   ]
  },
  {
   "cell_type": "markdown",
   "metadata": {
    "id": "mDvD5kqTWwOn"
   },
   "source": [
    "And here we will make a function that can convert our numeric values to text.\n"
   ]
  },
  {
   "cell_type": "code",
   "execution_count": 8,
   "metadata": {
    "id": "Af52YChSW5hX"
   },
   "outputs": [
    {
     "name": "stdout",
     "output_type": "stream",
     "text": [
      "First Citizen\n"
     ]
    }
   ],
   "source": [
    "def int_to_text(ints):\n",
    "  try:\n",
    "    ints = ints.numpy()\n",
    "  except:\n",
    "    pass\n",
    "  return ''.join(idx2char[ints])\n",
    "\n",
    "print(int_to_text(text_as_int[:13]))"
   ]
  },
  {
   "cell_type": "markdown",
   "metadata": {
    "id": "T_49cl6uS0r-"
   },
   "source": [
    "###Creating Training Examples\n",
    "Remember our task is to feed the model a sequence and have it return to us the next character. This means we need to split our text data from above into many shorter sequences that we can pass to the model as training examples. \n",
    "\n",
    "The training examples we will prepapre will use a *seq_length* sequence as input and a *seq_length* sequence as the output where that sequence is the original sequence shifted one letter to the right. For example:\n",
    "\n",
    "```input: Hell | output: ello```\n",
    "\n",
    "Our first step will be to create a stream of characters from our text data."
   ]
  },
  {
   "cell_type": "code",
   "execution_count": 9,
   "metadata": {
    "id": "xBkXz9fjUQHW"
   },
   "outputs": [],
   "source": [
    "seq_length = 100  # length of sequence for a training example\n",
    "examples_per_epoch = len(text)//(seq_length+1)\n",
    "\n",
    "# Create training examples / targets\n",
    "char_dataset = tf.data.Dataset.from_tensor_slices(text_as_int)"
   ]
  },
  {
   "cell_type": "markdown",
   "metadata": {
    "id": "pqmxfT7gVGlr"
   },
   "source": [
    "Next we can use the batch method to turn this stream of characters into batches of desired length."
   ]
  },
  {
   "cell_type": "code",
   "execution_count": 10,
   "metadata": {
    "id": "Xi0xaPB_VOJl"
   },
   "outputs": [],
   "source": [
    "sequences = char_dataset.batch(seq_length+1, drop_remainder=True)"
   ]
  },
  {
   "cell_type": "markdown",
   "metadata": {
    "id": "fxo1Dig_VvV1"
   },
   "source": [
    "Now we need to use these sequences of length 101 and split them into input and output."
   ]
  },
  {
   "cell_type": "code",
   "execution_count": 11,
   "metadata": {
    "id": "03zKVHTvV0Km"
   },
   "outputs": [],
   "source": [
    "def split_input_target(chunk):  # for the example: hello\n",
    "    input_text = chunk[:-1]  # hell\n",
    "    target_text = chunk[1:]  # ello\n",
    "    return input_text, target_text  # hell, ello\n",
    "\n",
    "dataset = sequences.map(split_input_target)  # we use map to apply the above function to every entry"
   ]
  },
  {
   "cell_type": "code",
   "execution_count": 12,
   "metadata": {
    "id": "9p_y2YmgWbnc"
   },
   "outputs": [
    {
     "name": "stdout",
     "output_type": "stream",
     "text": [
      "\n",
      "\n",
      "EXAMPLE\n",
      "\n",
      "INPUT\n",
      "First Citizen:\n",
      "Before we proceed any further, hear me speak.\n",
      "\n",
      "All:\n",
      "Speak, speak.\n",
      "\n",
      "First Citizen:\n",
      "You\n",
      "\n",
      "OUTPUT\n",
      "irst Citizen:\n",
      "Before we proceed any further, hear me speak.\n",
      "\n",
      "All:\n",
      "Speak, speak.\n",
      "\n",
      "First Citizen:\n",
      "You \n",
      "\n",
      "\n",
      "EXAMPLE\n",
      "\n",
      "INPUT\n",
      "are all resolved rather to die than to famish?\n",
      "\n",
      "All:\n",
      "Resolved. resolved.\n",
      "\n",
      "First Citizen:\n",
      "First, you \n",
      "\n",
      "OUTPUT\n",
      "re all resolved rather to die than to famish?\n",
      "\n",
      "All:\n",
      "Resolved. resolved.\n",
      "\n",
      "First Citizen:\n",
      "First, you k\n"
     ]
    }
   ],
   "source": [
    "for x, y in dataset.take(2):\n",
    "  print(\"\\n\\nEXAMPLE\\n\")\n",
    "  print(\"INPUT\")\n",
    "  print(int_to_text(x))\n",
    "  print(\"\\nOUTPUT\")\n",
    "  print(int_to_text(y))"
   ]
  },
  {
   "cell_type": "markdown",
   "metadata": {
    "id": "v6OxuFKVXpwK"
   },
   "source": [
    "Finally we need to make training batches."
   ]
  },
  {
   "cell_type": "code",
   "execution_count": 13,
   "metadata": {
    "id": "cRsKcjhXXuoD"
   },
   "outputs": [],
   "source": [
    "BATCH_SIZE = 64\n",
    "VOCAB_SIZE = len(vocab)  # vocab is number of unique characters\n",
    "EMBEDDING_DIM = 256\n",
    "RNN_UNITS = 1024\n",
    "\n",
    "# Buffer size to shuffle the dataset\n",
    "# (TF data is designed to work with possibly infinite sequences,\n",
    "# so it doesn't attempt to shuffle the entire sequence in memory. Instead,\n",
    "# it maintains a buffer in which it shuffles elements).\n",
    "BUFFER_SIZE = 10000\n",
    "\n",
    "data = dataset.shuffle(BUFFER_SIZE).batch(BATCH_SIZE, drop_remainder=True)"
   ]
  },
  {
   "cell_type": "markdown",
   "metadata": {
    "id": "E6YRmZLtX0d0"
   },
   "source": [
    "###Building the Model\n",
    "Now it is time to build the model. We will use an embedding layer a LSTM and one dense layer that contains a node for each unique character in our training data. The dense layer will give us a probability distribution over all nodes."
   ]
  },
  {
   "cell_type": "code",
   "execution_count": 14,
   "metadata": {
    "id": "5v_P2dEic4qt"
   },
   "outputs": [
    {
     "name": "stdout",
     "output_type": "stream",
     "text": [
      "Model: \"sequential\"\n",
      "_________________________________________________________________\n",
      "Layer (type)                 Output Shape              Param #   \n",
      "=================================================================\n",
      "embedding (Embedding)        (64, None, 256)           16640     \n",
      "_________________________________________________________________\n",
      "lstm (LSTM)                  (64, None, 1024)          5246976   \n",
      "_________________________________________________________________\n",
      "dense (Dense)                (64, None, 65)            66625     \n",
      "=================================================================\n",
      "Total params: 5,330,241\n",
      "Trainable params: 5,330,241\n",
      "Non-trainable params: 0\n",
      "_________________________________________________________________\n"
     ]
    }
   ],
   "source": [
    "def build_model(vocab_size, embedding_dim, rnn_units, batch_size):\n",
    "  model = tf.keras.Sequential([\n",
    "    tf.keras.layers.Embedding(vocab_size, embedding_dim,\n",
    "                              batch_input_shape=[batch_size, None]),\n",
    "    tf.keras.layers.LSTM(rnn_units,\n",
    "                        return_sequences=True,\n",
    "                        stateful=True,\n",
    "                        recurrent_initializer='glorot_uniform'),\n",
    "    tf.keras.layers.Dense(vocab_size)\n",
    "  ])\n",
    "  return model\n",
    "\n",
    "model = build_model(VOCAB_SIZE,EMBEDDING_DIM, RNN_UNITS, BATCH_SIZE)\n",
    "model.summary()"
   ]
  },
  {
   "cell_type": "markdown",
   "metadata": {
    "id": "8gfnHBUOvPqE"
   },
   "source": [
    "###Creating a Loss Function\n",
    "Now we are going to create our own loss function for this problem. This is because our model will output a (64, sequence_length, 65) shaped tensor that represents the probability distribution of each character at each timestep for every sequence in the batch. \n",
    "\n"
   ]
  },
  {
   "cell_type": "markdown",
   "metadata": {
    "id": "g_ERM4F15v_S"
   },
   "source": [
    "However, before we do that let's have a look at a sample input and the output from our untrained model. This is so we can understand what the model is giving us.\n",
    "\n"
   ]
  },
  {
   "cell_type": "code",
   "execution_count": 15,
   "metadata": {
    "id": "KdvEqlwc6_q0"
   },
   "outputs": [
    {
     "name": "stdout",
     "output_type": "stream",
     "text": [
      "(64, 100, 65) # (batch_size, sequence_length, vocab_size)\n"
     ]
    }
   ],
   "source": [
    "for input_example_batch, target_example_batch in data.take(1):\n",
    "  example_batch_predictions = model(input_example_batch)  # ask our model for a prediction on our first batch of training data (64 entries)\n",
    "  print(example_batch_predictions.shape, \"# (batch_size, sequence_length, vocab_size)\")  # print out the output shape"
   ]
  },
  {
   "cell_type": "code",
   "execution_count": 16,
   "metadata": {
    "id": "RQS5KXwi7_NX"
   },
   "outputs": [
    {
     "name": "stdout",
     "output_type": "stream",
     "text": [
      "64\n",
      "tf.Tensor(\n",
      "[[[-3.9454531e-03  1.6827983e-03 -7.8057824e-04 ...  3.4681475e-03\n",
      "    1.7500087e-04 -4.8468034e-03]\n",
      "  [-5.3859879e-03 -1.4320004e-03  5.8469116e-03 ...  3.1969026e-03\n",
      "   -6.6252495e-04 -5.2983640e-03]\n",
      "  [-1.0534037e-03 -1.8739539e-03  8.0420719e-03 ...  4.6441797e-04\n",
      "   -1.0948977e-03 -3.9995378e-03]\n",
      "  ...\n",
      "  [ 5.4799616e-03  7.7873366e-03 -5.3729378e-03 ...  2.6228102e-03\n",
      "    7.6321638e-03  8.7408791e-04]\n",
      "  [ 5.0787074e-03  3.7625744e-03 -4.6585277e-03 ...  3.9763232e-03\n",
      "    5.2550239e-03  3.6452780e-03]\n",
      "  [-7.6886034e-04  4.5418958e-03 -6.9847936e-03 ...  6.8990411e-03\n",
      "    5.6379572e-03 -2.4245027e-03]]\n",
      "\n",
      " [[-3.3035893e-03  5.7067112e-03  2.7534878e-03 ...  2.9173032e-03\n",
      "    3.4757296e-04 -4.3375534e-04]\n",
      "  [ 3.8033635e-03  7.6045240e-03  2.4351585e-03 ...  3.7889737e-03\n",
      "   -5.6868885e-04 -1.0809849e-03]\n",
      "  [ 2.6608447e-03  2.3514577e-03  6.1643929e-03 ...  1.5411673e-03\n",
      "   -8.5006910e-04 -5.1054778e-03]\n",
      "  ...\n",
      "  [-9.5120501e-03  3.3326165e-03 -7.5315218e-04 ...  2.3174146e-03\n",
      "   -1.5520803e-03  2.7407007e-03]\n",
      "  [-1.1453967e-02  2.0350469e-03  1.3556747e-03 ... -3.6911496e-03\n",
      "   -5.2336341e-04  6.1291049e-04]\n",
      "  [-4.8694354e-03  4.6724803e-04  8.3563110e-04 ...  6.3458655e-04\n",
      "    2.4916849e-04 -3.5294420e-03]]\n",
      "\n",
      " [[-3.9454531e-03  1.6827983e-03 -7.8057824e-04 ...  3.4681475e-03\n",
      "    1.7500087e-04 -4.8468034e-03]\n",
      "  [-8.6174048e-03 -2.8237051e-03 -7.5475289e-04 ...  2.2580833e-03\n",
      "    2.5026505e-03 -1.0700185e-03]\n",
      "  [-7.1802759e-03 -2.1653506e-04 -1.4573281e-03 ...  6.2449567e-04\n",
      "    1.9702506e-03  4.9790768e-03]\n",
      "  ...\n",
      "  [-7.3525263e-04  4.5927470e-03 -5.4105530e-03 ...  9.4915237e-03\n",
      "   -2.9419307e-03  2.0989710e-03]\n",
      "  [ 4.2098006e-03 -1.8953625e-04 -3.3625746e-03 ...  8.6892592e-03\n",
      "   -4.5212312e-04 -2.9182271e-03]\n",
      "  [-2.9606884e-04  1.3539456e-03 -3.6641741e-03 ...  1.0136051e-02\n",
      "    9.6859783e-04 -7.3323688e-03]]\n",
      "\n",
      " ...\n",
      "\n",
      " [[ 1.9105710e-04  2.9235394e-03  1.0102593e-02 ... -1.8025539e-04\n",
      "   -2.7737063e-03  2.4965713e-03]\n",
      "  [ 1.9172406e-03 -1.8422829e-03  4.1063139e-03 ...  3.7306352e-03\n",
      "   -8.3299296e-04  2.1673131e-03]\n",
      "  [ 3.8931814e-03  2.7881758e-03  5.3581344e-03 ...  1.2296349e-03\n",
      "   -1.5561481e-04  4.7355890e-03]\n",
      "  ...\n",
      "  [ 1.8020191e-03  5.8397008e-03 -9.4019966e-03 ...  8.2705971e-03\n",
      "    4.5825238e-03  9.2676282e-04]\n",
      "  [-5.9850207e-03  2.0963422e-03 -6.3507645e-03 ...  9.8042591e-03\n",
      "    9.9496143e-03  2.7598930e-03]\n",
      "  [-7.3628589e-03  8.4877834e-03 -7.8182667e-03 ...  6.9324179e-03\n",
      "    6.1592977e-03  5.8041513e-04]]\n",
      "\n",
      " [[ 1.2358589e-03  2.7177515e-03 -1.0682695e-04 ... -4.9658613e-03\n",
      "   -1.9361163e-03 -3.9342623e-03]\n",
      "  [-2.5999092e-03  3.9934930e-03 -1.0749672e-03 ...  2.9451551e-04\n",
      "   -1.4284002e-03 -7.9520103e-03]\n",
      "  [-7.3440531e-03 -1.0698049e-03 -1.2888551e-03 ...  2.7673307e-04\n",
      "    1.2117719e-03 -3.6477284e-03]\n",
      "  ...\n",
      "  [ 1.7821498e-04  7.3684333e-03  7.4206926e-03 ...  8.0165789e-03\n",
      "    3.9530559e-03 -1.9571090e-03]\n",
      "  [-1.9897511e-03  8.9053540e-03  3.1022551e-03 ...  2.9187019e-03\n",
      "    2.2005271e-03 -3.9448915e-03]\n",
      "  [-5.1326961e-03  6.7031318e-03  2.2862107e-05 ...  3.9669219e-03\n",
      "    3.5715709e-03 -7.7746524e-03]]\n",
      "\n",
      " [[ 1.2358589e-03  2.7177515e-03 -1.0682695e-04 ... -4.9658613e-03\n",
      "   -1.9361163e-03 -3.9342623e-03]\n",
      "  [-2.5999092e-03  3.9934930e-03 -1.0749672e-03 ...  2.9451551e-04\n",
      "   -1.4284002e-03 -7.9520103e-03]\n",
      "  [-7.3440531e-03 -1.0698049e-03 -1.2888551e-03 ...  2.7673307e-04\n",
      "    1.2117719e-03 -3.6477284e-03]\n",
      "  ...\n",
      "  [-1.4735244e-03  3.3142262e-03 -9.4157103e-03 ...  4.1567283e-03\n",
      "    1.0045590e-03  1.2595830e-03]\n",
      "  [ 2.6010100e-03  6.9546541e-03 -6.9502257e-03 ...  5.2736453e-03\n",
      "    2.6502120e-03  1.7793635e-03]\n",
      "  [ 5.0500417e-03  7.7951225e-03 -1.0357385e-02 ...  1.4950980e-03\n",
      "    3.2025604e-03  2.0213085e-03]]], shape=(64, 100, 65), dtype=float32)\n"
     ]
    }
   ],
   "source": [
    "# we can see that the predicition is an array of 64 arrays, one for each entry in the batch\n",
    "print(len(example_batch_predictions))\n",
    "print(example_batch_predictions)"
   ]
  },
  {
   "cell_type": "code",
   "execution_count": 17,
   "metadata": {
    "id": "sA1Zhop28V9n"
   },
   "outputs": [
    {
     "name": "stdout",
     "output_type": "stream",
     "text": [
      "100\n",
      "tf.Tensor(\n",
      "[[-0.00394545  0.0016828  -0.00078058 ...  0.00346815  0.000175\n",
      "  -0.0048468 ]\n",
      " [-0.00538599 -0.001432    0.00584691 ...  0.0031969  -0.00066252\n",
      "  -0.00529836]\n",
      " [-0.0010534  -0.00187395  0.00804207 ...  0.00046442 -0.0010949\n",
      "  -0.00399954]\n",
      " ...\n",
      " [ 0.00547996  0.00778734 -0.00537294 ...  0.00262281  0.00763216\n",
      "   0.00087409]\n",
      " [ 0.00507871  0.00376257 -0.00465853 ...  0.00397632  0.00525502\n",
      "   0.00364528]\n",
      " [-0.00076886  0.0045419  -0.00698479 ...  0.00689904  0.00563796\n",
      "  -0.0024245 ]], shape=(100, 65), dtype=float32)\n"
     ]
    }
   ],
   "source": [
    "# lets examine one prediction\n",
    "pred = example_batch_predictions[0]\n",
    "print(len(pred))\n",
    "print(pred)\n",
    "# notice this is a 2d array of length 100, where each interior array is the prediction for the next character at each time step"
   ]
  },
  {
   "cell_type": "code",
   "execution_count": 18,
   "metadata": {
    "id": "UbIoe7Ei8q3q"
   },
   "outputs": [
    {
     "name": "stdout",
     "output_type": "stream",
     "text": [
      "65\n",
      "tf.Tensor(\n",
      "[-0.00394545  0.0016828  -0.00078058 -0.00569513  0.00062069 -0.00307026\n",
      " -0.00282967 -0.00058588  0.00051097  0.00635689  0.00959936 -0.00126967\n",
      "  0.0030788   0.00207619  0.00525006 -0.00212548 -0.00640736  0.00106648\n",
      " -0.00718772 -0.00233215  0.00545668 -0.00282979  0.00265388 -0.00257032\n",
      "  0.00018502 -0.00315027  0.00154872  0.00025564 -0.00462921  0.00198284\n",
      " -0.00766895  0.00288737  0.00115519  0.00802851  0.00491369  0.00292244\n",
      " -0.00569592 -0.00371893 -0.00337203  0.00041741  0.0016431   0.00438379\n",
      " -0.00103022  0.00284511 -0.00542108 -0.00682382  0.00468815 -0.0014783\n",
      " -0.00356943  0.00757501  0.00423152  0.00196045  0.00069942  0.00092921\n",
      "  0.0041465  -0.00392342  0.00132201  0.00243522 -0.00306596  0.0068981\n",
      "  0.00512515  0.00138846  0.00346815  0.000175   -0.0048468 ], shape=(65,), dtype=float32)\n"
     ]
    }
   ],
   "source": [
    "# and finally well look at a prediction at the first timestep\n",
    "time_pred = pred[0]\n",
    "print(len(time_pred))\n",
    "print(time_pred)\n",
    "# and of course its 65 values representing the probabillity of each character occuring next"
   ]
  },
  {
   "cell_type": "code",
   "execution_count": 19,
   "metadata": {
    "id": "qlEYM1H995gR"
   },
   "outputs": [
    {
     "data": {
      "text/plain": [
       "'yXfM.THMAZAkRKHKTh-OQUOTN!,sgkpu:inNgstNfgOa$PaTB?FsnfxxAHweaMnWtu-hEFis&Dl&CYRwwjc:DWhdjsJixCEW!!Em'"
      ]
     },
     "execution_count": 19,
     "metadata": {},
     "output_type": "execute_result"
    }
   ],
   "source": [
    "# If we want to determine the predicted character we need to sample the output distribution (pick a value based on probabillity)\n",
    "sampled_indices = tf.random.categorical(pred, num_samples=1)\n",
    "\n",
    "# now we can reshape that array and convert all the integers to numbers to see the actual characters\n",
    "sampled_indices = np.reshape(sampled_indices, (1, -1))[0]\n",
    "predicted_chars = int_to_text(sampled_indices)\n",
    "\n",
    "predicted_chars  # and this is what the model predicted for training sequence 1"
   ]
  },
  {
   "cell_type": "markdown",
   "metadata": {
    "id": "qcCBfPjN9Cnp"
   },
   "source": [
    "So now we need to create a loss function that can compare that output to the expected output and give us some numeric value representing how close the two were. "
   ]
  },
  {
   "cell_type": "code",
   "execution_count": 20,
   "metadata": {
    "id": "ZOw23fWq9D9O"
   },
   "outputs": [],
   "source": [
    "def loss(labels, logits):\n",
    "  return tf.keras.losses.sparse_categorical_crossentropy(labels, logits, from_logits=True)"
   ]
  },
  {
   "cell_type": "markdown",
   "metadata": {
    "id": "kcg75GwXgW81"
   },
   "source": [
    "###Compiling the Model\n",
    "At this point we can think of our problem as a classification problem where the model predicts the probabillity of each unique letter coming next. \n"
   ]
  },
  {
   "cell_type": "code",
   "execution_count": 21,
   "metadata": {
    "id": "9g6o7zA_hAiS"
   },
   "outputs": [],
   "source": [
    "model.compile(optimizer='adam', loss=loss)"
   ]
  },
  {
   "cell_type": "markdown",
   "metadata": {
    "id": "YgDKr4yvjLPI"
   },
   "source": [
    "###Creating Checkpoints\n",
    "Now we are going to setup and configure our model to save checkpoinst as it trains. This will allow us to load our model from a checkpoint and continue training it."
   ]
  },
  {
   "cell_type": "code",
   "execution_count": 22,
   "metadata": {
    "id": "v7aMushYjSpy"
   },
   "outputs": [],
   "source": [
    "# Directory where the checkpoints will be saved\n",
    "checkpoint_dir = './training_checkpoints'\n",
    "# Name of the checkpoint files\n",
    "checkpoint_prefix = os.path.join(checkpoint_dir, \"ckpt_{epoch}\")\n",
    "\n",
    "checkpoint_callback=tf.keras.callbacks.ModelCheckpoint(\n",
    "    filepath=checkpoint_prefix,\n",
    "    save_weights_only=True)"
   ]
  },
  {
   "cell_type": "markdown",
   "metadata": {
    "id": "0p7acPvGja5c"
   },
   "source": [
    "###Training\n",
    "Finally, we will start training the model. \n",
    "\n",
    "**If this is taking a while go to Runtime > Change Runtime Type and choose \"GPU\" under hardware accelerator.**\n",
    "\n"
   ]
  },
  {
   "cell_type": "code",
   "execution_count": 23,
   "metadata": {
    "id": "R4PAgrwMjZ4_",
    "scrolled": false
   },
   "outputs": [
    {
     "name": "stdout",
     "output_type": "stream",
     "text": [
      "Train for 172 steps\n",
      "Epoch 1/50\n",
      "172/172 [==============================] - 372s 2s/step - loss: 2.5842\n",
      "Epoch 2/50\n",
      "172/172 [==============================] - 381s 2s/step - loss: 1.8821\n",
      "Epoch 3/50\n",
      "172/172 [==============================] - 17318s 101s/step - loss: 1.6377\n",
      "Epoch 4/50\n",
      "172/172 [==============================] - 416s 2s/step - loss: 1.5056\n",
      "Epoch 5/50\n",
      "172/172 [==============================] - 392s 2s/step - loss: 1.4249\n",
      "Epoch 6/50\n",
      "172/172 [==============================] - 383s 2s/step - loss: 1.3675\n",
      "Epoch 7/50\n",
      "172/172 [==============================] - 392s 2s/step - loss: 1.3236\n",
      "Epoch 8/50\n",
      "172/172 [==============================] - 395s 2s/step - loss: 1.2846\n",
      "Epoch 9/50\n",
      "172/172 [==============================] - 380s 2s/step - loss: 1.2490\n",
      "Epoch 10/50\n",
      "172/172 [==============================] - 377s 2s/step - loss: 1.2145\n",
      "Epoch 11/50\n",
      "172/172 [==============================] - 365s 2s/step - loss: 1.1797\n",
      "Epoch 12/50\n",
      "172/172 [==============================] - 364s 2s/step - loss: 1.1430\n",
      "Epoch 13/50\n",
      "172/172 [==============================] - 375s 2s/step - loss: 1.1079\n",
      "Epoch 14/50\n",
      "172/172 [==============================] - 372s 2s/step - loss: 1.0695\n",
      "Epoch 15/50\n",
      "172/172 [==============================] - 374s 2s/step - loss: 1.0294\n",
      "Epoch 16/50\n",
      "172/172 [==============================] - 369s 2s/step - loss: 0.9907\n",
      "Epoch 17/50\n",
      "172/172 [==============================] - 376s 2s/step - loss: 0.9509\n",
      "Epoch 18/50\n",
      "172/172 [==============================] - 370s 2s/step - loss: 0.9108\n",
      "Epoch 19/50\n",
      "172/172 [==============================] - 368s 2s/step - loss: 0.8718\n",
      "Epoch 20/50\n",
      "172/172 [==============================] - 376s 2s/step - loss: 0.8337\n",
      "Epoch 21/50\n",
      "172/172 [==============================] - 368s 2s/step - loss: 0.7969\n",
      "Epoch 22/50\n",
      "172/172 [==============================] - 374s 2s/step - loss: 0.7636\n",
      "Epoch 23/50\n",
      "172/172 [==============================] - 379s 2s/step - loss: 0.7316\n",
      "Epoch 24/50\n",
      "172/172 [==============================] - 373s 2s/step - loss: 0.7022\n",
      "Epoch 25/50\n",
      "172/172 [==============================] - 375s 2s/step - loss: 0.6750\n",
      "Epoch 26/50\n",
      "172/172 [==============================] - 376s 2s/step - loss: 0.6499\n",
      "Epoch 27/50\n",
      "172/172 [==============================] - 380s 2s/step - loss: 0.6281\n",
      "Epoch 28/50\n",
      "172/172 [==============================] - 374s 2s/step - loss: 0.6073\n",
      "Epoch 29/50\n",
      "172/172 [==============================] - 371s 2s/step - loss: 0.5885\n",
      "Epoch 30/50\n",
      "172/172 [==============================] - 374s 2s/step - loss: 0.5724\n",
      "Epoch 31/50\n",
      "172/172 [==============================] - 382s 2s/step - loss: 0.5583\n",
      "Epoch 32/50\n",
      "172/172 [==============================] - 386s 2s/step - loss: 0.5437\n",
      "Epoch 33/50\n",
      "172/172 [==============================] - 378s 2s/step - loss: 0.5302\n",
      "Epoch 34/50\n",
      "172/172 [==============================] - 373s 2s/step - loss: 0.5187\n",
      "Epoch 35/50\n",
      "172/172 [==============================] - 381s 2s/step - loss: 0.5107\n",
      "Epoch 36/50\n",
      "172/172 [==============================] - 375s 2s/step - loss: 0.5016\n",
      "Epoch 37/50\n",
      "172/172 [==============================] - 384s 2s/step - loss: 0.4924\n",
      "Epoch 38/50\n",
      "172/172 [==============================] - 385s 2s/step - loss: 0.4839\n",
      "Epoch 39/50\n",
      "172/172 [==============================] - 376s 2s/step - loss: 0.4774\n",
      "Epoch 40/50\n",
      "172/172 [==============================] - 377s 2s/step - loss: 0.4710\n",
      "Epoch 41/50\n",
      "172/172 [==============================] - 377s 2s/step - loss: 0.4655\n",
      "Epoch 42/50\n",
      "172/172 [==============================] - 388s 2s/step - loss: 0.4617\n",
      "Epoch 43/50\n",
      "172/172 [==============================] - 377s 2s/step - loss: 0.4557\n",
      "Epoch 44/50\n",
      "172/172 [==============================] - 376s 2s/step - loss: 0.4492\n",
      "Epoch 45/50\n",
      "172/172 [==============================] - 381s 2s/step - loss: 0.4457\n",
      "Epoch 46/50\n",
      "172/172 [==============================] - 380s 2s/step - loss: 0.4422\n",
      "Epoch 47/50\n",
      "172/172 [==============================] - 368s 2s/step - loss: 0.4381\n",
      "Epoch 48/50\n",
      "172/172 [==============================] - 378s 2s/step - loss: 0.4353\n",
      "Epoch 49/50\n",
      "172/172 [==============================] - 372s 2s/step - loss: 0.4313\n",
      "Epoch 50/50\n",
      "172/172 [==============================] - 378s 2s/step - loss: 0.4300\n"
     ]
    }
   ],
   "source": [
    "history = model.fit(data, epochs=50, callbacks=[checkpoint_callback])"
   ]
  },
  {
   "cell_type": "markdown",
   "metadata": {
    "id": "9GhoHJVtmTsz"
   },
   "source": [
    "###Loading the Model\n",
    "We'll rebuild the model from a checkpoint using a batch_size of 1 so that we can feed one peice of text to the model and have it make a prediction."
   ]
  },
  {
   "cell_type": "code",
   "execution_count": 24,
   "metadata": {
    "id": "TPSto3uimSKp"
   },
   "outputs": [],
   "source": [
    "model = build_model(VOCAB_SIZE, EMBEDDING_DIM, RNN_UNITS, batch_size=1)"
   ]
  },
  {
   "cell_type": "markdown",
   "metadata": {
    "id": "boEJvy_vjLJQ"
   },
   "source": [
    "Once the model is finished training, we can find the **lastest checkpoint** that stores the models weights using the following line.\n",
    "\n"
   ]
  },
  {
   "cell_type": "code",
   "execution_count": 25,
   "metadata": {
    "id": "PZIEZWE4mNKl"
   },
   "outputs": [],
   "source": [
    "model.load_weights(tf.train.latest_checkpoint(checkpoint_dir))\n",
    "model.build(tf.TensorShape([1, None]))"
   ]
  },
  {
   "cell_type": "markdown",
   "metadata": {
    "id": "CmPPtbaTKF8d"
   },
   "source": [
    "We can load **any checkpoint** we want by specifying the exact file to load."
   ]
  },
  {
   "cell_type": "code",
   "execution_count": null,
   "metadata": {
    "id": "YQ_5p0ehKFDn"
   },
   "outputs": [],
   "source": [
    "checkpoint_num = 10\n",
    "model.load_weights(tf.train.load_checkpoint(\"./training_checkpoints/ckpt_\" + str(checkpoint_num)))\n",
    "model.build(tf.TensorShape([1, None]))"
   ]
  },
  {
   "cell_type": "markdown",
   "metadata": {
    "id": "KaZWalEeAxQN"
   },
   "source": [
    "###Generating Text\n",
    "Now we can use the lovely function provided by tensorflow to generate some text using any starting string we'd like."
   ]
  },
  {
   "cell_type": "code",
   "execution_count": 26,
   "metadata": {
    "id": "oPSALdQXA3l3"
   },
   "outputs": [],
   "source": [
    "def generate_text(model, start_string):\n",
    "  # Evaluation step (generating text using the learned model)\n",
    "\n",
    "  # Number of characters to generate\n",
    "  num_generate = 800\n",
    "\n",
    "  # Converting our start string to numbers (vectorizing)\n",
    "  input_eval = [char2idx[s] for s in start_string]\n",
    "  input_eval = tf.expand_dims(input_eval, 0)\n",
    "\n",
    "  # Empty string to store our results\n",
    "  text_generated = []\n",
    "\n",
    "  # Low temperatures results in more predictable text.\n",
    "  # Higher temperatures results in more surprising text.\n",
    "  # Experiment to find the best setting.\n",
    "  temperature = 1.0\n",
    "\n",
    "  # Here batch size == 1\n",
    "  model.reset_states()\n",
    "  for i in range(num_generate):\n",
    "      predictions = model(input_eval)\n",
    "      # remove the batch dimension\n",
    "    \n",
    "      predictions = tf.squeeze(predictions, 0)\n",
    "\n",
    "      # using a categorical distribution to predict the character returned by the model\n",
    "      predictions = predictions / temperature\n",
    "      predicted_id = tf.random.categorical(predictions, num_samples=1)[-1,0].numpy()\n",
    "\n",
    "      # We pass the predicted character as the next input to the model\n",
    "      # along with the previous hidden state\n",
    "      input_eval = tf.expand_dims([predicted_id], 0)\n",
    "\n",
    "      text_generated.append(idx2char[predicted_id])\n",
    "\n",
    "  return (start_string + ''.join(text_generated))"
   ]
  },
  {
   "cell_type": "code",
   "execution_count": 27,
   "metadata": {
    "id": "cAJqhD9AA5mF"
   },
   "outputs": [
    {
     "name": "stdout",
     "output_type": "stream",
     "text": [
      "Type a starting string: Juliet\n",
      "Julieth o'erways hear. Good, known! it goes a bed\n",
      "That vow that love us here.\n",
      "\n",
      "PROSPERO:\n",
      "This battern Wench and pip him withal.\n",
      "S irect\n",
      "What makes he did repent more threatenith war!\n",
      "Size you the better singulities and prosperous\n",
      "lay to you.\n",
      "\n",
      "MENENIUS:\n",
      "He's a deminded by the dignition\n",
      "of noble of me.\n",
      "\n",
      "MENENIUS:\n",
      "What confere that breasts his speech, which eyes\n",
      "With more than so. Your Romeo impatience.\n",
      "\n",
      "ROMEO:\n",
      "I take him for the--\n",
      "\n",
      "Nurse:\n",
      "Give me my brother, liet thy fortune stays he was; and all\n",
      "A name, too queen, ashame\n",
      "To ave his carditors put in heaven.\n",
      "Thou hast a double wall!\n",
      "\n",
      "AUFIDIUS:\n",
      "My lords, before the heavens be contented:\n",
      "See you the news: the rather of thine own sounds,\n",
      "The spy of all the trades\n",
      "is not home, he took good hope:\n",
      "Good lady, go his battle; head upon me,\n",
      "It shall be prove\n"
     ]
    }
   ],
   "source": [
    "inp = input(\"Type a starting string: \")\n",
    "print(generate_text(model, inp))"
   ]
  },
  {
   "cell_type": "markdown",
   "metadata": {
    "id": "CBjHrzzyOBVr"
   },
   "source": [
    "*And* that's pretty much it for this module! I highly reccomend messing with the model we just created and seeing what you can get it to do!"
   ]
  },
  {
   "cell_type": "markdown",
   "metadata": {
    "id": "Cw-1eDE54yQo"
   },
   "source": [
    "##Sources\n",
    "\n",
    "1. Chollet François. Deep Learning with Python. Manning Publications Co., 2018.\n",
    "2. “Text Classification with an RNN &nbsp;: &nbsp; TensorFlow Core.” TensorFlow, www.tensorflow.org/tutorials/text/text_classification_rnn.\n",
    "3. “Text Generation with an RNN &nbsp;: &nbsp; TensorFlow Core.” TensorFlow, www.tensorflow.org/tutorials/text/text_generation.\n",
    "4. “Understanding LSTM Networks.” Understanding LSTM Networks -- Colah's Blog, https://colah.github.io/posts/2015-08-Understanding-LSTMs/."
   ]
  }
 ],
 "metadata": {
  "accelerator": "GPU",
  "colab": {
   "collapsed_sections": [],
   "name": "Natural Language Processing with RNNs .ipynb",
   "provenance": []
  },
  "kernelspec": {
   "display_name": "Python 3",
   "language": "python",
   "name": "python3"
  },
  "language_info": {
   "codemirror_mode": {
    "name": "ipython",
    "version": 3
   },
   "file_extension": ".py",
   "mimetype": "text/x-python",
   "name": "python",
   "nbconvert_exporter": "python",
   "pygments_lexer": "ipython3",
   "version": "3.6.10"
  }
 },
 "nbformat": 4,
 "nbformat_minor": 1
}
